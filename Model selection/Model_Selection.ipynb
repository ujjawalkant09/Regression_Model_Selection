{
 "cells": [
  {
   "cell_type": "code",
   "execution_count": 1,
   "metadata": {},
   "outputs": [],
   "source": [
    "import numpy as np\n",
    "import matplotlib.pyplot as plt\n",
    "import pandas as pd\n",
    "plt.style.use('fivethirtyeight')\n",
    "import warnings\n",
    "warnings.filterwarnings(\"ignore\")\n",
    "from sklearn.model_selection import train_test_split\n",
    "from sklearn.preprocessing import StandardScaler\n",
    "from sklearn.svm import SVR\n",
    "from sklearn.metrics import r2_score\n",
    "from sklearn.ensemble import RandomForestRegressor\n",
    "from sklearn.metrics import r2_score\n",
    "from sklearn.tree import DecisionTreeRegressor\n",
    "from sklearn.metrics import r2_score\n",
    "from sklearn.linear_model import LinearRegression\n",
    "from sklearn.metrics import r2_score\n",
    "import operator"
   ]
  },
  {
   "cell_type": "code",
   "execution_count": 2,
   "metadata": {},
   "outputs": [],
   "source": [
    "class allinone:\n",
    "    def __init__(self, Data):\n",
    "            self.Data = Data\n",
    "    def bestmodel(self):\n",
    "        DATA = self.Data\n",
    "        dataset = pd.read_csv(DATA)\n",
    "        X = dataset.iloc[:, :-1].values\n",
    "        y = dataset.iloc[:, -1].values\n",
    "        y = y.reshape(len(y),1)\n",
    "        X_train, X_test, y_train, y_test = train_test_split(X, y, test_size = 0.2, random_state = 0)\n",
    "        i = X_train\n",
    "        j = X_test\n",
    "        k = y_test\n",
    "        l = y_train\n",
    "        sc_X = StandardScaler()\n",
    "        sc_y = StandardScaler()\n",
    "        X_train = sc_X.fit_transform(X_train)\n",
    "        y_train = sc_y.fit_transform(y_train)\n",
    "        regressor = SVR(kernel = 'rbf')\n",
    "        regressor.fit(X_train, y_train)\n",
    "        y_pred = sc_y.inverse_transform(regressor.predict(sc_X.transform(X_test)))\n",
    "        np.set_printoptions(precision=2)\n",
    "        svm_r=r2_score(y_test, y_pred)\n",
    "        X_train = i\n",
    "        X_test = j\n",
    "        y_test = k\n",
    "        y_train = l\n",
    "        regressor = RandomForestRegressor(n_estimators = 10, random_state = 0)\n",
    "        regressor.fit(X_train, y_train)\n",
    "        y_pred = regressor.predict(X_test)\n",
    "        np.set_printoptions(precision=2)\n",
    "        RFrR = r2_score(y_test, y_pred)\n",
    "        X_train = i\n",
    "        X_test = j\n",
    "        y_test = k\n",
    "        y_train = l\n",
    "        regressor = DecisionTreeRegressor(random_state = 0)\n",
    "        regressor.fit(X_train, y_train)\n",
    "        y_pred = regressor.predict(X_test)\n",
    "        np.set_printoptions(precision=2)\n",
    "        DTrR = r2_score(y_test, y_pred)\n",
    "        X_train = i\n",
    "        X_test = j\n",
    "        y_test = k\n",
    "        y_train = l\n",
    "        regressor = LinearRegression()\n",
    "        regressor.fit(X_train, y_train)\n",
    "        y_pred = regressor.predict(X_test)\n",
    "        np.set_printoptions(precision=2)\n",
    "        MLrR = r2_score(y_test, y_pred)\n",
    "        d = {'Suport Vector Model':svm_r,'Random Forest regression Model':RFrR,'Decision tree regression Model':DTrR,'Multiple Linear Regression Model':MLrR}\n",
    "        sorted_d = dict(sorted(d.items(), key=operator.itemgetter(1),reverse=True))\n",
    "       # print(sorted_d)\n",
    "        res = list(sorted_d.keys())[0]\n",
    "        print(\"Best model for this dataset is : \",res)\n",
    "    "
   ]
  },
  {
   "cell_type": "code",
   "execution_count": 3,
   "metadata": {},
   "outputs": [
    {
     "name": "stdout",
     "output_type": "stream",
     "text": [
      "Enter Your csv DataSet name with extension : Data.csv\n",
      "Best model for this dataset is :  Random Forest regression Model\n"
     ]
    }
   ],
   "source": [
    "if __name__ == \"__main__\"  :\n",
    "    Data = input(\"Enter Your csv DataSet name with extension : \")\n",
    "    da = allinone(Data)\n",
    "    da.bestmodel()"
   ]
  },
  {
   "cell_type": "code",
   "execution_count": null,
   "metadata": {},
   "outputs": [],
   "source": []
  },
  {
   "cell_type": "code",
   "execution_count": null,
   "metadata": {},
   "outputs": [],
   "source": []
  }
 ],
 "metadata": {
  "kernelspec": {
   "display_name": "Python 3",
   "language": "python",
   "name": "python3"
  },
  "language_info": {
   "codemirror_mode": {
    "name": "ipython",
    "version": 3
   },
   "file_extension": ".py",
   "mimetype": "text/x-python",
   "name": "python",
   "nbconvert_exporter": "python",
   "pygments_lexer": "ipython3",
   "version": "3.7.4"
  }
 },
 "nbformat": 4,
 "nbformat_minor": 2
}
